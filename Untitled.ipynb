{
 "cells": [
  {
   "cell_type": "code",
   "execution_count": 1,
   "id": "5b40a4f0",
   "metadata": {},
   "outputs": [
    {
     "name": "stdout",
     "output_type": "stream",
     "text": [
      "Requirement already satisfied: flask in c:\\users\\zach pausa\\appdata\\local\\programs\\python\\python37\\lib\\site-packages (2.0.3)\n",
      "Requirement already satisfied: click>=7.1.2 in c:\\users\\zach pausa\\appdata\\local\\programs\\python\\python37\\lib\\site-packages (from flask) (8.0.4)\n",
      "Requirement already satisfied: itsdangerous>=2.0 in c:\\users\\zach pausa\\appdata\\local\\programs\\python\\python37\\lib\\site-packages (from flask) (2.1.0)\n",
      "Requirement already satisfied: Werkzeug>=2.0 in c:\\users\\zach pausa\\appdata\\local\\programs\\python\\python37\\lib\\site-packages (from flask) (2.0.3)\n",
      "Requirement already satisfied: Jinja2>=3.0 in c:\\users\\zach pausa\\appdata\\local\\programs\\python\\python37\\lib\\site-packages (from flask) (3.0.3)\n",
      "Requirement already satisfied: importlib-metadata in c:\\users\\zach pausa\\appdata\\local\\programs\\python\\python37\\lib\\site-packages (from click>=7.1.2->flask) (4.10.1)\n",
      "Requirement already satisfied: colorama in c:\\users\\zach pausa\\appdata\\local\\programs\\python\\python37\\lib\\site-packages (from click>=7.1.2->flask) (0.4.4)\n",
      "Requirement already satisfied: MarkupSafe>=2.0 in c:\\users\\zach pausa\\appdata\\local\\programs\\python\\python37\\lib\\site-packages (from Jinja2>=3.0->flask) (2.0.1)\n",
      "Requirement already satisfied: typing-extensions>=3.6.4 in c:\\users\\zach pausa\\appdata\\local\\programs\\python\\python37\\lib\\site-packages (from importlib-metadata->click>=7.1.2->flask) (4.0.1)\n",
      "Requirement already satisfied: zipp>=0.5 in c:\\users\\zach pausa\\appdata\\local\\programs\\python\\python37\\lib\\site-packages (from importlib-metadata->click>=7.1.2->flask) (3.7.0)\n",
      "Note: you may need to restart the kernel to use updated packages.\n"
     ]
    }
   ],
   "source": [
    "pip install flask"
   ]
  },
  {
   "cell_type": "code",
   "execution_count": null,
   "id": "b512b16f",
   "metadata": {},
   "outputs": [],
   "source": []
  }
 ],
 "metadata": {
  "kernelspec": {
   "display_name": "Python 3 (ipykernel)",
   "language": "python",
   "name": "python3"
  },
  "language_info": {
   "codemirror_mode": {
    "name": "ipython",
    "version": 3
   },
   "file_extension": ".py",
   "mimetype": "text/x-python",
   "name": "python",
   "nbconvert_exporter": "python",
   "pygments_lexer": "ipython3",
   "version": "3.7.6"
  }
 },
 "nbformat": 4,
 "nbformat_minor": 5
}
